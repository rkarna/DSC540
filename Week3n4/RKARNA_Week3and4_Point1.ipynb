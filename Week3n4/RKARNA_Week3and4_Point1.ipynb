{
 "cells": [
  {
   "cell_type": "markdown",
   "source": [
    "### Assignment: Week3&4 Assignment\n",
    "### Name: Karna, RajasekharReddy\n",
    "### Date: 04/10/2021\n",
    "#Tasks:\n",
    "- Load the necessary libraries.\n",
    "- Read in the Boston housing dataset (given as a .csv file) from the local directory.\n",
    "- Check the first 10 records. Find the total number of records.\n",
    "- Create a smaller DataFrame with columns that do not include CHAS, NOX, B, and LSTAT.\n",
    "- Check the last seven records of the new DataFrame you just created.\n",
    "- Plot the histograms of all the variables (columns) in the new DataFrame.\n",
    "- Plot them all at once using a for loop. Try to add a unique title to a plot.\n",
    "- Create a scatter plot of crime rate versus price.\n",
    "- Plot using log10(crime) versus price.\n",
    "- Calculate some useful statistics, such as mean rooms per dwelling, median age, mean distances to five Boston employment centers, and the percentage of houses with a low price (< $20,000)."
   ],
   "metadata": {
    "collapsed": false
   }
  },
  {
   "cell_type": "markdown",
   "source": [
    "##### With this activity, plan is work with arrays of data. Hence need to import Numpy library.\n",
    "##### NumPy is a Python library used for working with arrays.\n",
    "##### For faster data analysis, data cleaning, and data pre-processing, Pandas library allows all in one.\n",
    "##### As a good practise, import numpy before importing pandas.\n",
    "##### For data presentation, matplotlib.pyplot is a plotting library used for 2D graphics in python programming language."
   ],
   "metadata": {
    "collapsed": false
   }
  },
  {
   "cell_type": "code",
   "execution_count": null,
   "outputs": [],
   "source": [
    "import numpy as np\n",
    "import pandas as pd\n",
    "import matplotlib.pyplot as plt"
   ],
   "metadata": {
    "collapsed": false,
    "pycharm": {
     "name": "#%%\n"
    }
   }
  },
  {
   "cell_type": "markdown",
   "source": [
    "##### read_csv is the line of function uses to read CSV file in pandan function library.\n",
    "##### pd.function_name is used in Pandas functions world."
   ],
   "metadata": {
    "collapsed": false
   }
  },
  {
   "cell_type": "code",
   "execution_count": null,
   "outputs": [],
   "source": [
    "df=pd.read_csv(\"Boston_housing.csv\")"
   ],
   "metadata": {
    "collapsed": false,
    "pycharm": {
     "name": "#%%\n"
    }
   }
  },
  {
   "cell_type": "markdown",
   "source": [
    "##### Upon reading the data, variable.head(x) is used to read the lines of data.\n",
    "##### Here head() function captures the top rows of data. 10 represents top 10 rows of data from CSV file."
   ],
   "metadata": {
    "collapsed": false
   }
  },
  {
   "cell_type": "code",
   "execution_count": null,
   "outputs": [],
   "source": [
    "df.head(10)"
   ],
   "metadata": {
    "collapsed": false,
    "pycharm": {
     "name": "#%%\n"
    }
   }
  },
  {
   "cell_type": "markdown",
   "source": [
    "##### To find the number of rows and columns of the DataFrame by executing the following command:"
   ],
   "metadata": {
    "collapsed": false
   }
  },
  {
   "cell_type": "code",
   "execution_count": null,
   "outputs": [],
   "source": [
    "df.shape"
   ],
   "metadata": {
    "collapsed": false,
    "pycharm": {
     "name": "#%%\n"
    }
   }
  },
  {
   "cell_type": "markdown",
   "source": [
    "##### On demand basis users can create a smaller DataFrame with required columns, such as excluding columns like   'B', and 'LSTAT'"
   ],
   "metadata": {
    "collapsed": false
   }
  },
  {
   "cell_type": "code",
   "execution_count": null,
   "outputs": [],
   "source": [
    "df1=df[['CRIM','ZN','CHAS', 'NOX', 'INDUS','RM','AGE','DIS','RAD','TAX','PTRATIO','PRICE']]"
   ],
   "metadata": {
    "collapsed": false,
    "pycharm": {
     "name": "#%%\n"
    }
   }
  },
  {
   "cell_type": "markdown",
   "source": [
    "##### Upon reading the data, variable.tail(x) is used to read the lines of data from bottom.\n",
    "##### Same as head(), here tail() function captures the bottom rows of data. 7 represents bottom 7 rows of data from CSV file."
   ],
   "metadata": {
    "collapsed": false
   }
  },
  {
   "cell_type": "code",
   "execution_count": null,
   "outputs": [],
   "source": [
    "df1.tail(7)"
   ],
   "metadata": {
    "collapsed": false,
    "pycharm": {
     "name": "#%%\n"
    }
   }
  },
  {
   "cell_type": "markdown",
   "source": [
    "##### Plot histograms of all the variables (columns)\n",
    "##### Here plt.title function is used to capture the title headers. Here we are using for loop to do repetative on all variables."
   ],
   "metadata": {
    "collapsed": false
   }
  },
  {
   "cell_type": "code",
   "execution_count": null,
   "outputs": [],
   "source": [
    "for c in df1.columns:\n",
    "    plt.title(\"Plot of \"+c,fontsize=40)\n",
    "    plt.hist(df1[c],bins=40)\n",
    "    plt.show()"
   ],
   "metadata": {
    "collapsed": false,
    "pycharm": {
     "name": "#%%\n"
    }
   }
  },
  {
   "cell_type": "markdown",
   "source": [
    "##### As per realistic nature of humans, people prefer to avoid living in high-crime areas for security purposes.\n",
    "##### Hence crime rate could be an indicator of house price\n",
    "##### So creating a scatter plot of crime rate vs. Price.\n",
    "##### Here we can use plt.scatter(x,y) function to do scatter plot.\n",
    "##### plt.show() uses to show the image of scatter plot."
   ],
   "metadata": {
    "collapsed": false
   }
  },
  {
   "cell_type": "code",
   "execution_count": null,
   "outputs": [],
   "source": [
    "plt.scatter(df1['CRIM'],df1['PRICE'])\n",
    "plt.show()"
   ],
   "metadata": {
    "collapsed": false,
    "pycharm": {
     "name": "#%%\n"
    }
   }
  },
  {
   "cell_type": "markdown",
   "source": [
    "##### 'np.log10' = Numpy log10() is a mathematical function used to get the natural logarithm of any object or an array with the base 10. The np.log10() function accepts two arguments and returns the array of natural logarithms of the elements of the given array elements where the base is 10."
   ],
   "metadata": {
    "collapsed": false
   }
  },
  {
   "cell_type": "code",
   "execution_count": null,
   "outputs": [],
   "source": [
    "plt.scatter(np.log10(df1['CRIM']),df1['PRICE'],c='red')\n",
    "plt.title(\"Crime rate (Log) vs. Price plot\", fontsize=18)\n",
    "plt.xlabel(\"Log of Crime rate\",fontsize=15)\n",
    "plt.ylabel(\"Price\",fontsize=15)\n",
    "plt.grid(True)\n",
    "plt.show()"
   ],
   "metadata": {
    "collapsed": false,
    "pycharm": {
     "name": "#%%\n"
    }
   }
  },
  {
   "cell_type": "markdown",
   "source": [
    "##### mean(): Python mean () is an inbuilt statistics module function used to calculate the average of numbers and list. The mean () function can calculate the mean/average of the given list of numbers. It returns the mean of the data set passed as parameters."
   ],
   "metadata": {
    "collapsed": false
   }
  },
  {
   "cell_type": "code",
   "execution_count": null,
   "outputs": [],
   "source": [
    "df1['RM'].mean()"
   ],
   "metadata": {
    "collapsed": false,
    "pycharm": {
     "name": "#%%\n"
    }
   }
  },
  {
   "cell_type": "markdown",
   "source": [
    "### median(): Python median (): With the Python statistics module, you can find the median, or middle value, of a data set. The Python median () function allows you to calculate the median of any data set without first sorting the list."
   ],
   "metadata": {
    "collapsed": false
   }
  },
  {
   "cell_type": "code",
   "execution_count": null,
   "outputs": [],
   "source": [
    "df1['AGE'].median()"
   ],
   "metadata": {
    "collapsed": false,
    "pycharm": {
     "name": "#%%\n"
    }
   }
  },
  {
   "cell_type": "code",
   "execution_count": null,
   "outputs": [],
   "source": [],
   "metadata": {
    "collapsed": false,
    "pycharm": {
     "name": "#%%"
    }
   }
  }
 ],
 "metadata": {
  "kernelspec": {
   "display_name": "Python 3",
   "language": "python",
   "name": "python3"
  },
  "language_info": {
   "codemirror_mode": {
    "name": "ipython",
    "version": 3
   },
   "file_extension": ".py",
   "mimetype": "text/x-python",
   "name": "python",
   "nbconvert_exporter": "python",
   "pygments_lexer": "ipython3",
   "version": "3.6.2"
  },
  "latex_envs": {
   "LaTeX_envs_menu_present": true,
   "autoclose": false,
   "autocomplete": true,
   "bibliofile": "biblio.bib",
   "cite_by": "apalike",
   "current_citInitial": 1,
   "eqLabelWithNumbers": true,
   "eqNumInitial": 1,
   "hotkeys": {
    "equation": "Ctrl-E",
    "itemize": "Ctrl-I"
   },
   "labels_anchors": false,
   "latex_user_defs": false,
   "report_style_numbering": false,
   "user_envs_cfg": false
  }
 },
 "nbformat": 4,
 "nbformat_minor": 2
}