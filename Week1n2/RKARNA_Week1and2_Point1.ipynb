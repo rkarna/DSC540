{
 "cells": [
  {
   "cell_type": "code",
   "execution_count": 1,
   "metadata": {},
   "outputs": [],
   "source": [
    "import random"
   ]
  },
  {
   "cell_type": "markdown",
   "metadata": {},
   "source": [
    "### 1. Creation of List"
   ]
  },
  {
   "cell_type": "code",
   "execution_count": 2,
   "metadata": {},
   "outputs": [
    {
     "name": "stdout",
     "output_type": "stream",
     "text": [
      "First List =  [100, 21, 3, 52, 6, 7]\n",
      "1\n",
      "2\n",
      "3\n",
      "Second List =  ['1', '2', '3']\n"
     ]
    }
   ],
   "source": [
    "lis1 = [100, 21, 3, 52, 6, 7]\n",
    "print(\"First List = \", lis1)\n",
    "\n",
    "first_val = input()\n",
    "second_val = input()\n",
    "third_val = input()\n",
    "\n",
    "lis2 = [first_val, second_val, third_val]\n",
    "print(\"Second List = \", lis2)"
   ]
  },
  {
   "cell_type": "markdown",
   "metadata": {},
   "source": [
    "### 2. Iterate over list"
   ]
  },
  {
   "cell_type": "code",
   "execution_count": 3,
   "metadata": {},
   "outputs": [
    {
     "name": "stdout",
     "output_type": "stream",
     "text": [
      "100\n",
      "21\n",
      "3\n",
      "52\n",
      "6\n",
      "7\n"
     ]
    }
   ],
   "source": [
    "for val in lis1:\n",
    "    print(val)"
   ]
  },
  {
   "cell_type": "markdown",
   "metadata": {},
   "source": [
    "### Sorting List"
   ]
  },
  {
   "cell_type": "code",
   "execution_count": 4,
   "metadata": {},
   "outputs": [
    {
     "name": "stdout",
     "output_type": "stream",
     "text": [
      "[3, 6, 7, 21, 52, 100]\n",
      "[100, 52, 21, 7, 6, 3]\n"
     ]
    }
   ],
   "source": [
    "lis1.sort()\n",
    "print(lis1)\n",
    "\n",
    "lis1.sort(reverse = True)\n",
    "print(lis1)"
   ]
  },
  {
   "cell_type": "markdown",
   "metadata": {},
   "source": [
    "### Generate Random Numbers"
   ]
  },
  {
   "cell_type": "code",
   "execution_count": 5,
   "metadata": {},
   "outputs": [
    {
     "name": "stdout",
     "output_type": "stream",
     "text": [
      "19\n",
      "32\n",
      "16\n",
      "[92, 4, 62, 13, 55, 99, 34, 42, 87, 1]\n"
     ]
    }
   ],
   "source": [
    "print(random.randint(10,20))\n",
    "print(random.randint(1,100))\n",
    "print(random.randint(11,22))\n",
    "rand_list = [random.randint(1,100) for _ in range(10)]\n",
    "print(rand_list)"
   ]
  },
  {
   "cell_type": "markdown",
   "metadata": {},
   "source": [
    "### Append to a list"
   ]
  },
  {
   "cell_type": "code",
   "execution_count": 6,
   "metadata": {},
   "outputs": [
    {
     "name": "stdout",
     "output_type": "stream",
     "text": [
      "[100, 52, 21, 7, 6, 3, 10]\n"
     ]
    }
   ],
   "source": [
    "lis1.append(10)\n",
    "print(lis1)"
   ]
  },
  {
   "cell_type": "markdown",
   "metadata": {},
   "source": [
    "# ALL TOGETHER"
   ]
  },
  {
   "cell_type": "code",
   "execution_count": 7,
   "metadata": {},
   "outputs": [
    {
     "name": "stdout",
     "output_type": "stream",
     "text": [
      "List Item #1=  100\n",
      "List Item #2=  250\n",
      "List Item #3=  3\n",
      "List Item #4=  124\n",
      "[3, 100, 124, 250, 97, 44, 68]\n"
     ]
    }
   ],
   "source": [
    "#creating\n",
    "main_list = [100, 250, 3, 124]\n",
    "#iterating\n",
    "i = 1\n",
    "for val in main_list:\n",
    "    print(\"List Item #\" + str(i) + \"= \", val)\n",
    "    i = i + 1\n",
    "#sorting\n",
    "main_list.sort()\n",
    "#generating 3 random numbers and appending to the list\n",
    "main_list.append(random.randint(1,100))\n",
    "main_list.append(random.randint(1,100))\n",
    "main_list.append(random.randint(1,100))\n",
    "#printing list\n",
    "print(main_list)"
   ]
  }
 ],
 "metadata": {
  "kernelspec": {
   "display_name": "Python 3",
   "language": "python",
   "name": "python3"
  },
  "language_info": {
   "codemirror_mode": {
    "name": "ipython",
    "version": 3
   },
   "file_extension": ".py",
   "mimetype": "text/x-python",
   "name": "python",
   "nbconvert_exporter": "python",
   "pygments_lexer": "ipython3",
   "version": "3.7.4"
  }
 },
 "nbformat": 4,
 "nbformat_minor": 2
}
