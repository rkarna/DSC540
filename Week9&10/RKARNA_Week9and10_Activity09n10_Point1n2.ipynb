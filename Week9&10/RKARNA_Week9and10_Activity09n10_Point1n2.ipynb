{
 "cells": [
  {
   "cell_type": "markdown",
   "metadata": {},
   "source": [
    "### Assignment: Week9&10 Assignment\n",
    "### Name: Karna, RajasekharReddy\n",
    "### Date: 05/22/2021\n",
    "#Tasks:\n",
    "Activity 9: Extracting the Top 100 eBooks from Gutenberg\n",
    "- To scrape the URL of Project Gutenberg's Top 100 eBooks to identify the eBooks' links.\n",
    "\n",
    "Activity 10: Building Your Own Movie Database by Reading an API\n",
    "- To retrieve and print basic data about a movie (the title is entered by the user) from the web (OMDb database)\n",
    "- If a poster of the movie can be found, it downloads the file and saves it at a user-specified location"
   ]
  },
  {
   "cell_type": "markdown",
   "metadata": {},
   "source": [
    "### Importing the necessary libraries to ensure identifying the eBooks links.\n",
    "### This uses BeautifulSoup to parse the HTML and regular expression code to identify the Top 100 eBook file numbers.\n"
   ]
  },
  {
   "cell_type": "code",
   "execution_count": 3,
   "metadata": {},
   "outputs": [],
   "source": [
    "import urllib.request, urllib.parse, urllib.error\n",
    "import requests\n",
    "from bs4 import BeautifulSoup\n",
    "import ssl\n",
    "import re\n",
    "import json"
   ]
  },
  {
   "cell_type": "markdown",
   "metadata": {},
   "source": [
    "### Checking the SSL certificate on the links and ignore SSL errors"
   ]
  },
  {
   "cell_type": "code",
   "execution_count": 2,
   "metadata": {},
   "outputs": [],
   "source": [
    "ctx = ssl.create_default_context()\n",
    "ctx.check_hostname = False\n",
    "ctx.verify_mode = ssl.CERT_NONE"
   ]
  },
  {
   "cell_type": "markdown",
   "metadata": {},
   "source": [
    "### Reading the HTML formatted data based on the provided URL."
   ]
  },
  {
   "cell_type": "code",
   "execution_count": 4,
   "metadata": {},
   "outputs": [],
   "source": [
    "top100url = 'https://www.gutenberg.org/browse/scores/top'\n",
    "response = requests.get(top100url)"
   ]
  },
  {
   "cell_type": "markdown",
   "metadata": {},
   "source": [
    "### Below logic allowing to check the status of web request initiation for the above URL"
   ]
  },
  {
   "cell_type": "code",
   "execution_count": 5,
   "metadata": {},
   "outputs": [],
   "source": [
    "def status_check(r):\n",
    "    if r.status_code==200:\n",
    "        print(\"If Status Code = 200, then Success response!\")\n",
    "        return 1\n",
    "    else:\n",
    "        print(\"If Status Code <> 200, then Failed response!\")\n",
    "        return -1"
   ]
  },
  {
   "cell_type": "code",
   "execution_count": 6,
   "metadata": {},
   "outputs": [
    {
     "name": "stdout",
     "output_type": "stream",
     "text": [
      "Success!\n"
     ]
    },
    {
     "data": {
      "text/plain": [
       "1"
      ]
     },
     "execution_count": 6,
     "metadata": {},
     "output_type": "execute_result"
    }
   ],
   "source": [
    "status_check(response)"
   ]
  },
  {
   "cell_type": "markdown",
   "metadata": {},
   "source": [
    "### Using below line, user is attempting to decode the response\n",
    "### Also pass on to `BeautifulSoup` for HTML data parsing"
   ]
  },
  {
   "cell_type": "code",
   "execution_count": 7,
   "metadata": {},
   "outputs": [],
   "source": [
    "contents = response.content.decode(response.encoding)"
   ]
  },
  {
   "cell_type": "code",
   "execution_count": 8,
   "metadata": {},
   "outputs": [],
   "source": [
    "soup = BeautifulSoup(contents, 'html.parser')"
   ]
  },
  {
   "cell_type": "markdown",
   "metadata": {},
   "source": [
    "### To start with, empty list to hold all the http links from the HTML page\n",
    "### HREF tags allow to find all references tags and store them in the list of links.\n",
    "### Also allow to view how the list looks like - print first 10 elements"
   ]
  },
  {
   "cell_type": "code",
   "execution_count": 9,
   "metadata": {},
   "outputs": [],
   "source": [
    "lst_links=[]"
   ]
  },
  {
   "cell_type": "code",
   "execution_count": 10,
   "metadata": {},
   "outputs": [],
   "source": [
    "for link in soup.find_all('a'):\n",
    "    print(link.get('href'))\n",
    "    lst_links.append(link.get('href'))"
   ]
  },
  {
   "cell_type": "code",
   "execution_count": 29,
   "metadata": {},
   "outputs": [
    {
     "data": {
      "text/plain": [
       "['/wiki/Main_Page',\n",
       " '/catalog/',\n",
       " '/ebooks/',\n",
       " '/browse/recent/last1',\n",
       " '/browse/scores/top',\n",
       " '/wiki/Gutenberg:Offline_Catalogs',\n",
       " '/catalog/world/mybookmarks',\n",
       " '/wiki/Main_Page',\n",
       " 'https://www.paypal.com/xclick/business=donate%40gutenberg.org&item_name=Donation+to+Project+Gutenberg',\n",
       " '/wiki/Gutenberg:Project_Gutenberg_Needs_Your_Donation',\n",
       " 'http://www.ibiblio.org',\n",
       " 'http://www.pgdp.net/',\n",
       " 'pretty-pictures',\n",
       " '#books-last1',\n",
       " '#authors-last1',\n",
       " '#books-last7',\n",
       " '#authors-last7',\n",
       " '#books-last30',\n",
       " '#authors-last30',\n",
       " '/ebooks/1342',\n",
       " '/ebooks/84',\n",
       " '/ebooks/1080',\n",
       " '/ebooks/46',\n",
       " '/ebooks/219',\n",
       " '/ebooks/2542',\n",
       " '/ebooks/98',\n",
       " '/ebooks/345',\n",
       " '/ebooks/2701',\n",
       " '/ebooks/844',\n",
       " '/ebooks/11']"
      ]
     },
     "execution_count": 29,
     "metadata": {},
     "output_type": "execute_result"
    }
   ],
   "source": [
    "lst_links[:10]"
   ]
  },
  {
   "cell_type": "markdown",
   "metadata": {},
   "source": [
    "### Using the regular expression, identify the numeric digits in these links.\n",
    "### Initialize empty list to hold the file numbers"
   ]
  },
  {
   "cell_type": "code",
   "execution_count": 25,
   "metadata": {},
   "outputs": [],
   "source": [
    "booknum=[]"
   ]
  },
  {
   "cell_type": "markdown",
   "metadata": {},
   "source": [
    "* Number 15 to 70 in the original list of links have the Top 100 ebooks' number.\n",
    "* Loop over appropriate range and use regex to find the numeric digits in the link (href) string.\n",
    "* Hint: Use `findall()` method"
   ]
  },
  {
   "cell_type": "code",
   "execution_count": 26,
   "metadata": {},
   "outputs": [],
   "source": [
    "for i in range(15,69):\n",
    "    link=lst_links[i]\n",
    "    link=link.strip()\n",
    "    n=re.findall('[0-9]+',link)\n",
    "    if len(n)==1:\n",
    "        booknum.append(int(n[0]))"
   ]
  },
  {
   "cell_type": "markdown",
   "metadata": {},
   "source": [
    "### Print the file numbers"
   ]
  },
  {
   "cell_type": "code",
   "execution_count": 14,
   "metadata": {},
   "outputs": [
    {
     "name": "stdout",
     "output_type": "stream",
     "text": [
      "\n",
      "The file numbers for the top 100 ebooks on Gutenberg are shown below\n",
      "----------------------------------------------------------------------\n",
      "[1342, 84, 1080, 46, 219, 2542, 98, 345, 2701, 844, 11, 5200, 43, 16328, 76, 74, 1952, 6130, 2591, 1661, 41, 174, 23, 1260, 1497, 408, 3207, 1400, 30254, 58271, 1232, 25344, 58269, 158, 44881, 1322, 205, 2554, 1184, 2600, 120, 16, 58276, 5740, 34901, 28054, 829, 33, 2814, 4300, 100, 55, 160, 1404, 786, 58267, 3600, 19942, 8800, 514, 244, 2500, 2852, 135, 768, 58263, 1251, 3825, 779, 58262, 203, 730, 20203, 35, 1250, 45, 161, 30360, 7370, 58274, 209, 27827, 58256, 33283, 4363, 375, 996, 58270, 521, 58268, 36, 815, 1934, 3296, 58279, 105, 2148, 932, 1064, 13415]\n"
     ]
    }
   ],
   "source": [
    "print (\"\\nThe file numbers for the top 100 ebooks on Gutenberg are shown below\\n\"+\"-\"*70)\n",
    "print(booknum)"
   ]
  },
  {
   "cell_type": "markdown",
   "metadata": {},
   "source": [
    "### Using `.text()` method and print only first 1000 characters.\n",
    "### You will notice lot of empty spaces/blanks here and there. Ignore them. They are part of HTML page markup and its whimsical nature!"
   ]
  },
  {
   "cell_type": "code",
   "execution_count": 24,
   "metadata": {
    "scrolled": false
   },
   "outputs": [
    {
     "name": "stdout",
     "output_type": "stream",
     "text": [
      "\n",
      "\n",
      "\n",
      "\n",
      "\n",
      "\n",
      "\n",
      "\n",
      "\n",
      "      if (top != self) {\n",
      "        top.location.replace ('http://www.gutenberg.org');\n",
      "        alert ('Project Gutenberg is a FREE service with NO membership required. If you paid somebody else to get here, make them give you your money back!');\n",
      "      }\n",
      "    \n",
      " \n",
      "Top 100 - Project Gutenberg\n",
      "\n",
      "\n",
      "\n",
      "\n",
      "\n",
      "\n",
      "\n",
      "\n",
      "Online Book Catalog\n",
      "=> \n",
      "\n",
      "\n",
      "\n",
      " Book  Search\n",
      "-- Recent  Books\n",
      "-- Top  100\n",
      "-- Offline Catalogs\n",
      "-- My Bookmarks\n",
      "\n",
      "\n",
      "Main Page\n",
      "\n",
      "\n",
      "\n",
      "\n",
      "Project Gutenberg needs your donation! \n",
      "        More Info\n",
      "\n",
      "\n",
      "\n",
      "\n",
      "\n",
      "\n",
      "\n",
      "\n",
      "Did you know that you can help us produce ebooks\n",
      "by proof-reading just one page a day?\n",
      "Go to: Distributed Proofreaders\n",
      "\n",
      "\n",
      "\n",
      "Top 100\n",
      "\n",
      "\n",
      "To determine the ranking we count the times each file gets downloaded.\n",
      "Both HTTP and FTP transfers are counted.\n",
      "Only transfers from ibiblio.org are counted as we have no access to our mirrors log files.\n",
      "Multiple downloads from the same IP address on the same day count as one download.\n",
      "IP addresses that download more than 100 files a day are considered\n",
      "robots and are not considered.\n",
      "Books made out of multiple files like most audio books are counted\n",
      "if any file is downloaded.\n",
      "\n",
      "Downloaded Books\n",
      "2018-11-13127018\n",
      "last 7 days809583\n",
      "last 30 days3292793\n",
      "\n",
      "Pretty Pictures\n",
      "\n",
      "Top 100 EBooks yesterday —\n",
      "  Top 100 Authors yesterday —\n",
      "  Top 100 EBooks last 7 days —\n",
      "  Top 100 Authors last 7 days —\n",
      "  Top 100 EBooks last 30 days —\n",
      "  Top 100 Authors last 30 days\n",
      "\n",
      "Top 100 EBooks yesterday\n",
      "\n",
      "Pride and Prejudice by Jane Austen (1826)\n",
      "Frankenstein; Or, The Modern Prometheus by Mary Wollstonecraft Shelley (1367)\n",
      "A Modest Proposal by Jonathan Swift (1020)\n",
      "A Christmas Carol in Prose; Being a Ghost Story of Christmas by Charles Dickens (953)\n",
      "Heart of Darkness by Joseph Conrad (887)\n",
      "Et dukkehjem. English by Henrik Ibsen (761)\n",
      "A Tale of Two Cities by Charles Dickens (741)\n",
      "Dracula by Bram Stoker (732)\n",
      "Moby Dick; Or, The Whale by Herman Melville (651)\n",
      "The Importance of Being Earnest: A Trivial Comedy for Serious People by Oscar Wilde (646)\n",
      "Alice's Adventures in Wonderland by Lewis Carrol\n"
     ]
    }
   ],
   "source": [
    "print(soup.text[:1000])"
   ]
  },
  {
   "cell_type": "markdown",
   "metadata": {},
   "source": [
    "### Using regular expression, search in the extracted text from the `soup` object to find the names of top 100 Ebooks.\n",
    "### To start with temp empty list of Ebook names"
   ]
  },
  {
   "cell_type": "code",
   "execution_count": 19,
   "metadata": {},
   "outputs": [],
   "source": [
    "lst_titles_temp=[]"
   ]
  },
  {
   "cell_type": "markdown",
   "metadata": {},
   "source": [
    "### Create a starting index and it should point at the text 'Top 100 Ebooks yesterday\"."
   ]
  },
  {
   "cell_type": "code",
   "execution_count": 20,
   "metadata": {},
   "outputs": [],
   "source": [
    "start_idx=soup.text.splitlines().index('Top 100 EBooks yesterday')"
   ]
  },
  {
   "cell_type": "markdown",
   "metadata": {},
   "source": [
    "### Loop 1-50 to add the strings of next 50 lines to this temporary list."
   ]
  },
  {
   "cell_type": "code",
   "execution_count": null,
   "metadata": {},
   "outputs": [],
   "source": [
    "for i in range(50):\n",
    "    lst_titles_temp.append(soup.text.splitlines()[start_idx+2+i])"
   ]
  },
  {
   "cell_type": "markdown",
   "metadata": {},
   "source": [
    "### Using regular expression to extract only text from the name strings and append to an empty list"
   ]
  },
  {
   "cell_type": "code",
   "execution_count": 16,
   "metadata": {},
   "outputs": [],
   "source": [
    "lst_titles=[]\n",
    "for i in range(50):\n",
    "    id1,id2=re.match('^[a-zA-Z ]*',lst_titles_temp[i]).span()\n",
    "    lst_titles.append(lst_titles_temp[i][id1:id2])"
   ]
  },
  {
   "cell_type": "markdown",
   "metadata": {},
   "source": [
    "### At the end, printing the list of top titles from the Gutenberg HTML page"
   ]
  },
  {
   "cell_type": "code",
   "execution_count": 17,
   "metadata": {},
   "outputs": [
    {
     "name": "stdout",
     "output_type": "stream",
     "text": [
      "Pride and Prejudice by Jane Austen \n",
      "Frankenstein\n",
      "A Modest Proposal by Jonathan Swift \n",
      "A Christmas Carol in Prose\n",
      "Heart of Darkness by Joseph Conrad \n",
      "Et dukkehjem\n",
      "A Tale of Two Cities by Charles Dickens \n",
      "Dracula by Bram Stoker \n",
      "Moby Dick\n",
      "The Importance of Being Earnest\n",
      "Alice\n",
      "Metamorphosis by Franz Kafka \n",
      "The Strange Case of Dr\n",
      "Beowulf\n",
      "Adventures of Huckleberry Finn by Mark Twain \n",
      "The Adventures of Tom Sawyer by Mark Twain \n",
      "The Yellow Wallpaper by Charlotte Perkins Gilman \n",
      "The Iliad by Homer \n",
      "Grimms\n",
      "The Adventures of Sherlock Holmes by Arthur Conan Doyle \n",
      "The Legend of Sleepy Hollow by Washington Irving \n",
      "The Picture of Dorian Gray by Oscar Wilde \n",
      "Narrative of the Life of Frederick Douglass\n",
      "Jane Eyre\n",
      "The Republic by Plato \n",
      "The Souls of Black Folk by W\n",
      "Leviathan by Thomas Hobbes \n",
      "Great Expectations by Charles Dickens \n",
      "The Romance of Lust\n",
      "The Tower of London by William Benham \n",
      "Il Principe\n",
      "The Scarlet Letter by Nathaniel Hawthorne \n",
      "\n",
      "Emma by Jane Austen \n",
      "Confessions of a Thug by Meadows Taylor \n",
      "Leaves of Grass by Walt Whitman \n",
      "Walden\n",
      "Prestuplenie i nakazanie\n",
      "The Count of Monte Cristo\n",
      "War and Peace by graf Leo Tolstoy \n",
      "Treasure Island by Robert Louis Stevenson \n",
      "Peter Pan by J\n",
      "The Florist and Horticultural Journal\n",
      "Tractatus Logico\n",
      "On Liberty by John Stuart Mill \n",
      "The Brothers Karamazov by Fyodor Dostoyevsky \n",
      "Gulliver\n",
      "The Scarlet Letter by Nathaniel Hawthorne \n",
      "Dubliners by James Joyce \n",
      "Ulysses by James Joyce \n",
      "The Complete Works of William Shakespeare by William Shakespeare \n",
      "The Wonderful Wizard of Oz by L\n",
      "The Awakening\n",
      "The Federalist Papers by Alexander Hamilton and John Jay and James Madison \n",
      "Hard Times by Charles Dickens \n",
      "The Delinquent \n",
      "Essays of Michel de Montaigne \n",
      "Candide by Voltaire \n",
      "The Divine Comedy by Dante\n",
      "Little Women by Louisa May Alcott \n",
      "A Study in Scarlet by Arthur Conan Doyle \n",
      "Siddhartha by Hermann Hesse \n",
      "The Hound of the Baskervilles by Arthur Conan Doyle \n",
      "Les Mis\n",
      "Wuthering Heights by Emily Bront\n",
      "The Candle and the Cat by Mary Finley Leonard \n",
      "Le Morte d\n",
      "Pygmalion by Bernard Shaw \n",
      "The Tragical History of Doctor Faustus by Christopher Marlowe \n",
      "Captain John\n",
      "Uncle Tom\n",
      "Oliver Twist by Charles Dickens \n",
      "Autobiography of Benjamin Franklin by Benjamin Franklin \n",
      "The Time Machine by H\n",
      "Anthem by Ayn Rand \n",
      "Anne of Green Gables by L\n",
      "Sense and Sensibility by Jane Austen \n",
      "My Secret Life\n",
      "Second Treatise of Government by John Locke \n",
      "The Tragic Story of the Empress of Ireland by Logan Marshall \n",
      "The Turn of the Screw by Henry James \n",
      "The Kama Sutra of Vatsyayana by Vatsyayana \n",
      "The Russian Army and the Japanese War\n",
      "Calculus Made Easy by Silvanus P\n",
      "Beyond Good and Evil by Friedrich Wilhelm Nietzsche \n",
      "An Occurrence at Owl Creek Bridge by Ambrose Bierce \n",
      "Don Quixote by Miguel de Cervantes Saavedra \n",
      "Blue Jackets by Edward Greey \n",
      "The Life and Adventures of Robinson Crusoe by Daniel Defoe \n",
      "The Waterloo Campaign \n",
      "The War of the Worlds by H\n",
      "Democracy in America \n",
      "Songs of Innocence\n",
      "The Confessions of St\n",
      "Modern French Masters by Marie Van Vorst \n",
      "Persuasion by Jane Austen \n",
      "The Works of Edgar Allan Poe \n",
      "The Fall of the House of Usher by Edgar Allan Poe \n",
      "The Masque of the Red Death by Edgar Allan Poe \n",
      "The Lady with the Dog and Other Stories by Anton Pavlovich Chekhov \n"
     ]
    }
   ],
   "source": [
    "for l in lst_titles:\n",
    "    print(l)"
   ]
  },
  {
   "cell_type": "markdown",
   "source": [
    "### Load the secret API key\n",
    "\n",
    "#### Note: The following cell will not be executed in the solution notebook because the author cannot give out his private API key.\n",
    "#### Students/users/instructor will need to obtain a key and store in a JSON file.\n",
    "#### For the code's sake, we are calling this file `APIkeys.json`. But you need to store your own key in this file."
   ],
   "metadata": {
    "collapsed": false
   }
  },
  {
   "cell_type": "code",
   "execution_count": null,
   "outputs": [],
   "source": [
    "with open('APIkeys.json') as f:\n",
    "    keys = json.load(f)\n",
    "    omdbapi = keys['OMDBapi']"
   ],
   "metadata": {
    "collapsed": false,
    "pycharm": {
     "name": "#%%\n"
    }
   }
  },
  {
   "cell_type": "markdown",
   "source": [
    "### Record URL http://www.omdbapi.com/?t=movie_name&apikey=secretapikey"
   ],
   "metadata": {
    "collapsed": false
   }
  },
  {
   "cell_type": "code",
   "execution_count": null,
   "outputs": [],
   "source": [
    "serviceurl = 'http://www.omdbapi.com/?'\n",
    "apikey = '&apikey='+omdbapi"
   ],
   "metadata": {
    "collapsed": false,
    "pycharm": {
     "name": "#%%\n"
    }
   }
  },
  {
   "cell_type": "markdown",
   "source": [
    "### Process list of key values as a utility function `print_json`\n",
    "### Here are the keys of a JSON file,\n",
    "### 'Title', 'Year', 'Rated', 'Released', 'Runtime', 'Genre', 'Director', 'Writer', 'Actors', 'Plot', 'Language','Country', 'Awards', 'Ratings', 'Metascore', 'imdbRating', 'imdbVotes', 'imdbID'"
   ],
   "metadata": {
    "collapsed": false
   }
  },
  {
   "cell_type": "code",
   "execution_count": null,
   "outputs": [],
   "source": [
    "def print_json(json_data):\n",
    "    list_keys=['Title', 'Year', 'Rated', 'Released', 'Runtime', 'Genre', 'Director', 'Writer',\n",
    "               'Actors', 'Plot', 'Language', 'Country', 'Awards', 'Ratings',\n",
    "               'Metascore', 'imdbRating', 'imdbVotes', 'imdbID']\n",
    "    print(\"-\"*50)\n",
    "    for k in list_keys:\n",
    "        if k in list(json_data.keys()):\n",
    "            print(f\"{k}: {json_data[k]}\")\n",
    "    print(\"-\"*50)"
   ],
   "metadata": {
    "collapsed": false,
    "pycharm": {
     "name": "#%%\n"
    }
   }
  },
  {
   "cell_type": "markdown",
   "source": [
    "### Write a utility function to download a poster of the movie based on the information from the jason dataset and save in your local folder\n",
    "\n",
    "* Use `os` module\n",
    "* The poster data is stored in the JSON key 'Poster'\n",
    "* You may want to split the name of the Poster file and extract the file extension only. Let's say the extension is ***'jpg'***.\n",
    "* Then later join this extension to the movie name and create a filename like ***movie.jpg***\n",
    "* Use the Python command `open` to open a file and write the poster data. Close the file after done.\n",
    "* This function may not return anything. It just saves the poster data as an image file."
   ],
   "metadata": {
    "collapsed": false
   }
  },
  {
   "cell_type": "code",
   "execution_count": null,
   "outputs": [],
   "source": [
    "def save_poster(json_data):\n",
    "    # As per instruction, using os module\n",
    "    import os\n",
    "    title = json_data['Title']\n",
    "    poster_url = json_data['Poster']\n",
    "    poster_file_extension=poster_url.split('.')[-1]\n",
    "    poster_data = urllib.request.urlopen(poster_url).read()\n",
    "    savelocation=os.getcwd()+'\\\\'+'Posters'+'\\\\'\n",
    "    if not os.path.isdir(savelocation):\n",
    "        os.mkdir(savelocation)\n",
    "    filename=savelocation+str(title)+'.'+poster_file_extension\n",
    "    f=open(filename,'wb')\n",
    "    f.write(poster_data)\n",
    "    f.close()"
   ],
   "metadata": {
    "collapsed": false,
    "pycharm": {
     "name": "#%%\n"
    }
   }
  },
  {
   "cell_type": "markdown",
   "source": [
    "### Write a utility function `search_movie` to search a movie by its name, print the downloaded JSON data (use the `print_json` function for this) and save the movie poster in the local folder (use `save_poster` function for this)\n",
    "\n",
    "* Use `try-except` loop for this i.e. try to connect to the web portal, if successful proceed but if not (i.e. exception raised) then just print an error message\n",
    "* Here use the previously created variables `serviceurl` and `apikey`\n",
    "* You have to pass on a dictionary with a key `t` and the movie name as the corresponding value to `urllib.parse.urlencode()` function and then add the `serviceurl` and `apikey` to the output of the function to construct the full URL\n",
    "* This URL will be used for accessing the data\n",
    "* The JSON data has a key called `Response`. If it is `True`, that means the read was successful. Check this before processing the data. If not successful, then print the JSON key `Error`, which will contain the appropriate error message returned by the movie database."
   ],
   "metadata": {
    "collapsed": false
   }
  },
  {
   "cell_type": "code",
   "execution_count": null,
   "outputs": [],
   "source": [
    "def search_movie(title):\n",
    "    try:\n",
    "        url = serviceurl + urllib.parse.urlencode({'t': str(title)})+apikey\n",
    "        print(f'The data of \"{title}\" now... ')\n",
    "        print(url)\n",
    "        uh = urllib.request.urlopen(url)\n",
    "        data = uh.read()\n",
    "        json_data=json.loads(data)\n",
    "        if json_data['Response']=='True':\n",
    "            print_json(json_data)\n",
    "            # Providing option for users whether to download the poster of the movie\n",
    "            if json_data['Poster']!='N/A':\n",
    "                save_poster(json_data)\n",
    "        else:\n",
    "            print(\"Displaying the error encountered: \",json_data['Error'])\n",
    "    except urllib.error.URLError as e:\n",
    "        print(f\"ERROR: {e.reason}\")"
   ],
   "metadata": {
    "collapsed": false,
    "pycharm": {
     "name": "#%%\n"
    }
   }
  },
  {
   "cell_type": "markdown",
   "source": [
    "### Validating `search_movie` function by entering movie name like *Captain John*"
   ],
   "metadata": {
    "collapsed": false
   }
  },
  {
   "cell_type": "code",
   "execution_count": null,
   "outputs": [],
   "source": [
    "search_movie(\"Captain John\")"
   ],
   "metadata": {
    "collapsed": false,
    "pycharm": {
     "name": "#%%\n"
    }
   }
  },
  {
   "cell_type": "markdown",
   "source": [
    "### Validating `search_movie` function by entering wrong movie name like *RAJASEKHAR*"
   ],
   "metadata": {
    "collapsed": false
   }
  },
  {
   "cell_type": "code",
   "execution_count": null,
   "outputs": [],
   "source": [
    "search_movie(\"RAJASEKHAR\")"
   ],
   "metadata": {
    "collapsed": false,
    "pycharm": {
     "name": "#%%\n"
    }
   }
  },
  {
   "cell_type": "markdown",
   "source": [
    "### Look for a folder called 'Posters' in the same directory you are working in. It should contain a file called 'Titanic.jpg'. Open and see if the poster came alright!\n",
    "\n"
   ],
   "metadata": {
    "collapsed": false
   }
  }
 ],
 "metadata": {
  "kernelspec": {
   "display_name": "Python 3",
   "language": "python",
   "name": "python3"
  },
  "language_info": {
   "codemirror_mode": {
    "name": "ipython",
    "version": 3
   },
   "file_extension": ".py",
   "mimetype": "text/x-python",
   "name": "python",
   "nbconvert_exporter": "python",
   "pygments_lexer": "ipython3",
   "version": "3.6.2"
  },
  "latex_envs": {
   "LaTeX_envs_menu_present": true,
   "autoclose": false,
   "autocomplete": true,
   "bibliofile": "biblio.bib",
   "cite_by": "apalike",
   "current_citInitial": 1,
   "eqLabelWithNumbers": true,
   "eqNumInitial": 1,
   "hotkeys": {
    "equation": "Ctrl-E",
    "itemize": "Ctrl-I"
   },
   "labels_anchors": false,
   "latex_user_defs": false,
   "report_style_numbering": false,
   "user_envs_cfg": false
  }
 },
 "nbformat": 4,
 "nbformat_minor": 2
}